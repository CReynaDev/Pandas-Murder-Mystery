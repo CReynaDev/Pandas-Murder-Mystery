{
 "cells": [
  {
   "cell_type": "markdown",
   "metadata": {},
   "source": [
    "## `Actividades preliminares`"
   ]
  },
  {
   "cell_type": "markdown",
   "metadata": {},
   "source": [
    "Comenzamos importando la libreria de pandas"
   ]
  },
  {
   "cell_type": "code",
   "execution_count": 23,
   "metadata": {},
   "outputs": [],
   "source": [
    "import pandas as pd"
   ]
  },
  {
   "cell_type": "markdown",
   "metadata": {},
   "source": [
    "Cargamos el dataset que utilizaran durante la investigacion"
   ]
  },
  {
   "cell_type": "code",
   "execution_count": 24,
   "metadata": {},
   "outputs": [],
   "source": [
    "crime_scene_report     = pd.read_csv(\"./_src/datasets/Crime Scene report.csv\")\n",
    "drivers_license        = pd.read_csv(\"./_src/datasets/Drivers license.csv\")\n",
    "facebook_event_checkin = pd.read_csv(\"./_src/datasets/facebook_event_checkin.csv\")\n",
    "getfitnow_checkin      = pd.read_csv(\"./_src/datasets/GetFitNow check in.csv\")\n",
    "getfitnow_members      = pd.read_csv(\"./_src/datasets/GetFitNow members.csv\")\n",
    "income                 = pd.read_csv(\"./_src/datasets/income.csv\")\n",
    "interview              = pd.read_csv(\"./_src/datasets/Interviews.csv\")\n",
    "person                 = pd.read_csv(\"./_src/datasets/Person.csv\")"
   ]
  },
  {
   "cell_type": "markdown",
   "metadata": {},
   "source": [
    "Veamos un poco como estan conformados estos dataframes"
   ]
  },
  {
   "cell_type": "code",
   "execution_count": 39,
   "metadata": {},
   "outputs": [
    {
     "name": "stdout",
     "output_type": "stream",
     "text": [
      "<class 'pandas.core.frame.DataFrame'>\n",
      "RangeIndex: 10011 entries, 0 to 10010\n",
      "Data columns (total 6 columns):\n",
      " #   Column               Non-Null Count  Dtype \n",
      "---  ------               --------------  ----- \n",
      " 0   Id                   10011 non-null  int64 \n",
      " 1   Name                 10011 non-null  object\n",
      " 2   License_Id           10011 non-null  int64 \n",
      " 3   Address_Number       10011 non-null  int64 \n",
      " 4   Address_Street_Name  10011 non-null  object\n",
      " 5   Ssn                  10011 non-null  int64 \n",
      "dtypes: int64(4), object(2)\n",
      "memory usage: 469.4+ KB\n"
     ]
    }
   ],
   "source": [
    "# Usamos .info() para ver una descripcion general del dataset, como sus tipos de datos en cada columna y si presenta nulos\n",
    "person.info()\n",
    "#Podes cambiar el dataset para ver la informacion general del que quieras"
   ]
  },
  {
   "cell_type": "code",
   "execution_count": 33,
   "metadata": {},
   "outputs": [],
   "source": [
    "crime_scene_pandas = (crime_scene_report['City'] == 'Pandas City') & (crime_scene_report['Type'] == 'murder')"
   ]
  },
  {
   "cell_type": "code",
   "execution_count": 35,
   "metadata": {},
   "outputs": [],
   "source": [
    "reportes_filtrados = crime_scene_report[crime_scene_pandas]"
   ]
  },
  {
   "cell_type": "code",
   "execution_count": 36,
   "metadata": {},
   "outputs": [
    {
     "data": {
      "text/html": [
       "<div>\n",
       "<style scoped>\n",
       "    .dataframe tbody tr th:only-of-type {\n",
       "        vertical-align: middle;\n",
       "    }\n",
       "\n",
       "    .dataframe tbody tr th {\n",
       "        vertical-align: top;\n",
       "    }\n",
       "\n",
       "    .dataframe thead th {\n",
       "        text-align: right;\n",
       "    }\n",
       "</style>\n",
       "<table border=\"1\" class=\"dataframe\">\n",
       "  <thead>\n",
       "    <tr style=\"text-align: right;\">\n",
       "      <th></th>\n",
       "      <th>Date</th>\n",
       "      <th>Type</th>\n",
       "      <th>Description</th>\n",
       "      <th>City</th>\n",
       "    </tr>\n",
       "  </thead>\n",
       "  <tbody>\n",
       "    <tr>\n",
       "      <th>676</th>\n",
       "      <td>2018-02-15</td>\n",
       "      <td>murder</td>\n",
       "      <td>REDACTED REDACTED REDACTED</td>\n",
       "      <td>Pandas City</td>\n",
       "    </tr>\n",
       "    <tr>\n",
       "      <th>677</th>\n",
       "      <td>2018-02-15</td>\n",
       "      <td>murder</td>\n",
       "      <td>Someone killed the guard! He took an arrow to ...</td>\n",
       "      <td>Pandas City</td>\n",
       "    </tr>\n",
       "    <tr>\n",
       "      <th>781</th>\n",
       "      <td>2018-01-15</td>\n",
       "      <td>murder</td>\n",
       "      <td>Security footage shows that there were 2 witne...</td>\n",
       "      <td>Pandas City</td>\n",
       "    </tr>\n",
       "  </tbody>\n",
       "</table>\n",
       "</div>"
      ],
      "text/plain": [
       "           Date    Type                                        Description  \\\n",
       "676  2018-02-15  murder                         REDACTED REDACTED REDACTED   \n",
       "677  2018-02-15  murder  Someone killed the guard! He took an arrow to ...   \n",
       "781  2018-01-15  murder  Security footage shows that there were 2 witne...   \n",
       "\n",
       "            City  \n",
       "676  Pandas City  \n",
       "677  Pandas City  \n",
       "781  Pandas City  "
      ]
     },
     "execution_count": 36,
     "metadata": {},
     "output_type": "execute_result"
    }
   ],
   "source": [
    "reportes_filtrados"
   ]
  },
  {
   "cell_type": "code",
   "execution_count": 38,
   "metadata": {},
   "outputs": [
    {
     "data": {
      "text/plain": [
       "'Security footage shows that there were 2 witnesses. The first witness lives at the last house on \"Northwestern Dr\". The second witness, named Annabel, lives somewhere on \"Franklin Ave\".'"
      ]
     },
     "execution_count": 38,
     "metadata": {},
     "output_type": "execute_result"
    }
   ],
   "source": [
    "reportes_filtrados.iloc[2,2]"
   ]
  },
  {
   "cell_type": "markdown",
   "metadata": {},
   "source": [
    "### Búsqueda de Annabel"
   ]
  },
  {
   "cell_type": "code",
   "execution_count": 41,
   "metadata": {},
   "outputs": [
    {
     "data": {
      "text/html": [
       "<div>\n",
       "<style scoped>\n",
       "    .dataframe tbody tr th:only-of-type {\n",
       "        vertical-align: middle;\n",
       "    }\n",
       "\n",
       "    .dataframe tbody tr th {\n",
       "        vertical-align: top;\n",
       "    }\n",
       "\n",
       "    .dataframe thead th {\n",
       "        text-align: right;\n",
       "    }\n",
       "</style>\n",
       "<table border=\"1\" class=\"dataframe\">\n",
       "  <thead>\n",
       "    <tr style=\"text-align: right;\">\n",
       "      <th></th>\n",
       "      <th>Id</th>\n",
       "      <th>Name</th>\n",
       "      <th>License_Id</th>\n",
       "      <th>Address_Number</th>\n",
       "      <th>Address_Street_Name</th>\n",
       "      <th>Ssn</th>\n",
       "    </tr>\n",
       "  </thead>\n",
       "  <tbody>\n",
       "    <tr>\n",
       "      <th>0</th>\n",
       "      <td>10000</td>\n",
       "      <td>Christoper Peteuil</td>\n",
       "      <td>993845</td>\n",
       "      <td>624</td>\n",
       "      <td>Bankhall Ave</td>\n",
       "      <td>747714076</td>\n",
       "    </tr>\n",
       "  </tbody>\n",
       "</table>\n",
       "</div>"
      ],
      "text/plain": [
       "      Id                Name  License_Id  Address_Number Address_Street_Name  \\\n",
       "0  10000  Christoper Peteuil      993845             624        Bankhall Ave   \n",
       "\n",
       "         Ssn  \n",
       "0  747714076  "
      ]
     },
     "execution_count": 41,
     "metadata": {},
     "output_type": "execute_result"
    }
   ],
   "source": [
    "person.head(1)"
   ]
  },
  {
   "cell_type": "code",
   "execution_count": 84,
   "metadata": {},
   "outputs": [],
   "source": [
    "person['primer_nombre'] = person['Name'].str.split().str[0]"
   ]
  },
  {
   "cell_type": "code",
   "execution_count": 85,
   "metadata": {},
   "outputs": [],
   "source": [
    "Annabel = (person['Address_Street_Name'] == 'Franklin Ave') & (person['primer_nombre'] == 'Annabel')"
   ]
  },
  {
   "cell_type": "code",
   "execution_count": 86,
   "metadata": {},
   "outputs": [],
   "source": [
    "person_filtrado = person[Annabel]"
   ]
  },
  {
   "cell_type": "code",
   "execution_count": 89,
   "metadata": {},
   "outputs": [
    {
     "data": {
      "text/html": [
       "<div>\n",
       "<style scoped>\n",
       "    .dataframe tbody tr th:only-of-type {\n",
       "        vertical-align: middle;\n",
       "    }\n",
       "\n",
       "    .dataframe tbody tr th {\n",
       "        vertical-align: top;\n",
       "    }\n",
       "\n",
       "    .dataframe thead th {\n",
       "        text-align: right;\n",
       "    }\n",
       "</style>\n",
       "<table border=\"1\" class=\"dataframe\">\n",
       "  <thead>\n",
       "    <tr style=\"text-align: right;\">\n",
       "      <th></th>\n",
       "      <th>Id</th>\n",
       "      <th>Name</th>\n",
       "      <th>License_Id</th>\n",
       "      <th>Address_Number</th>\n",
       "      <th>Address_Street_Name</th>\n",
       "      <th>Ssn</th>\n",
       "      <th>primer_nombre</th>\n",
       "    </tr>\n",
       "  </thead>\n",
       "  <tbody>\n",
       "    <tr>\n",
       "      <th>665</th>\n",
       "      <td>16371</td>\n",
       "      <td>Annabel Miller</td>\n",
       "      <td>490173</td>\n",
       "      <td>103</td>\n",
       "      <td>Franklin Ave</td>\n",
       "      <td>318771143</td>\n",
       "      <td>Annabel</td>\n",
       "    </tr>\n",
       "  </tbody>\n",
       "</table>\n",
       "</div>"
      ],
      "text/plain": [
       "        Id            Name  License_Id  Address_Number Address_Street_Name  \\\n",
       "665  16371  Annabel Miller      490173             103        Franklin Ave   \n",
       "\n",
       "           Ssn primer_nombre  \n",
       "665  318771143       Annabel  "
      ]
     },
     "execution_count": 89,
     "metadata": {},
     "output_type": "execute_result"
    }
   ],
   "source": [
    "person_filtrado"
   ]
  },
  {
   "cell_type": "markdown",
   "metadata": {},
   "source": [
    "### Búsqueda testigo 1"
   ]
  },
  {
   "cell_type": "code",
   "execution_count": 91,
   "metadata": {},
   "outputs": [],
   "source": [
    "tes1 = (person['Address_Street_Name'] == 'Northwestern Dr') "
   ]
  },
  {
   "cell_type": "code",
   "execution_count": 92,
   "metadata": {},
   "outputs": [],
   "source": [
    "Northwestern_Dr = person[tes1]"
   ]
  },
  {
   "cell_type": "code",
   "execution_count": 98,
   "metadata": {},
   "outputs": [
    {
     "data": {
      "text/html": [
       "<div>\n",
       "<style scoped>\n",
       "    .dataframe tbody tr th:only-of-type {\n",
       "        vertical-align: middle;\n",
       "    }\n",
       "\n",
       "    .dataframe tbody tr th {\n",
       "        vertical-align: top;\n",
       "    }\n",
       "\n",
       "    .dataframe thead th {\n",
       "        text-align: right;\n",
       "    }\n",
       "</style>\n",
       "<table border=\"1\" class=\"dataframe\">\n",
       "  <thead>\n",
       "    <tr style=\"text-align: right;\">\n",
       "      <th></th>\n",
       "      <th>Id</th>\n",
       "      <th>Name</th>\n",
       "      <th>License_Id</th>\n",
       "      <th>Address_Number</th>\n",
       "      <th>Address_Street_Name</th>\n",
       "      <th>Ssn</th>\n",
       "      <th>primer_nombre</th>\n",
       "    </tr>\n",
       "  </thead>\n",
       "  <tbody>\n",
       "    <tr>\n",
       "      <th>2</th>\n",
       "      <td>10010</td>\n",
       "      <td>Muoi Cary</td>\n",
       "      <td>385336</td>\n",
       "      <td>741</td>\n",
       "      <td>Northwestern Dr</td>\n",
       "      <td>828638512</td>\n",
       "      <td>Muoi</td>\n",
       "    </tr>\n",
       "    <tr>\n",
       "      <th>282</th>\n",
       "      <td>12711</td>\n",
       "      <td>Norman Apolito</td>\n",
       "      <td>667757</td>\n",
       "      <td>599</td>\n",
       "      <td>Northwestern Dr</td>\n",
       "      <td>778264744</td>\n",
       "      <td>Norman</td>\n",
       "    </tr>\n",
       "    <tr>\n",
       "      <th>499</th>\n",
       "      <td>14887</td>\n",
       "      <td>Morty Schapiro</td>\n",
       "      <td>118009</td>\n",
       "      <td>4919</td>\n",
       "      <td>Northwestern Dr</td>\n",
       "      <td>111564949</td>\n",
       "      <td>Morty</td>\n",
       "    </tr>\n",
       "  </tbody>\n",
       "</table>\n",
       "</div>"
      ],
      "text/plain": [
       "        Id            Name  License_Id  Address_Number Address_Street_Name  \\\n",
       "2    10010       Muoi Cary      385336             741     Northwestern Dr   \n",
       "282  12711  Norman Apolito      667757             599     Northwestern Dr   \n",
       "499  14887  Morty Schapiro      118009            4919     Northwestern Dr   \n",
       "\n",
       "           Ssn primer_nombre  \n",
       "2    828638512          Muoi  \n",
       "282  778264744        Norman  \n",
       "499  111564949         Morty  "
      ]
     },
     "execution_count": 98,
     "metadata": {},
     "output_type": "execute_result"
    }
   ],
   "source": [
    "Northwestern_Dr.head(3)"
   ]
  },
  {
   "cell_type": "code",
   "execution_count": 96,
   "metadata": {},
   "outputs": [
    {
     "data": {
      "text/plain": [
       "4919"
      ]
     },
     "execution_count": 96,
     "metadata": {},
     "output_type": "execute_result"
    }
   ],
   "source": [
    "Northwestern_Dr['Address_Number'].max()"
   ]
  },
  {
   "cell_type": "markdown",
   "metadata": {},
   "source": [
    "### Revisión de entrevistas"
   ]
  },
  {
   "cell_type": "code",
   "execution_count": 99,
   "metadata": {},
   "outputs": [
    {
     "data": {
      "text/html": [
       "<div>\n",
       "<style scoped>\n",
       "    .dataframe tbody tr th:only-of-type {\n",
       "        vertical-align: middle;\n",
       "    }\n",
       "\n",
       "    .dataframe tbody tr th {\n",
       "        vertical-align: top;\n",
       "    }\n",
       "\n",
       "    .dataframe thead th {\n",
       "        text-align: right;\n",
       "    }\n",
       "</style>\n",
       "<table border=\"1\" class=\"dataframe\">\n",
       "  <thead>\n",
       "    <tr style=\"text-align: right;\">\n",
       "      <th></th>\n",
       "      <th>Person_Id</th>\n",
       "      <th>Transcript</th>\n",
       "    </tr>\n",
       "  </thead>\n",
       "  <tbody>\n",
       "    <tr>\n",
       "      <th>0</th>\n",
       "      <td>63713</td>\n",
       "      <td>NaN</td>\n",
       "    </tr>\n",
       "    <tr>\n",
       "      <th>1</th>\n",
       "      <td>33856</td>\n",
       "      <td>NaN</td>\n",
       "    </tr>\n",
       "    <tr>\n",
       "      <th>2</th>\n",
       "      <td>82799</td>\n",
       "      <td>NaN</td>\n",
       "    </tr>\n",
       "    <tr>\n",
       "      <th>3</th>\n",
       "      <td>54206</td>\n",
       "      <td>NaN</td>\n",
       "    </tr>\n",
       "    <tr>\n",
       "      <th>4</th>\n",
       "      <td>34615</td>\n",
       "      <td>NaN</td>\n",
       "    </tr>\n",
       "    <tr>\n",
       "      <th>...</th>\n",
       "      <td>...</td>\n",
       "      <td>...</td>\n",
       "    </tr>\n",
       "    <tr>\n",
       "      <th>4986</th>\n",
       "      <td>37357</td>\n",
       "      <td>Alice did not wish to offend the Dormouse agai...</td>\n",
       "    </tr>\n",
       "    <tr>\n",
       "      <th>4987</th>\n",
       "      <td>10206</td>\n",
       "      <td>time,’ she said, ‘than waste it in asking ridd...</td>\n",
       "    </tr>\n",
       "    <tr>\n",
       "      <th>4988</th>\n",
       "      <td>14887</td>\n",
       "      <td>I heard a gunshot and then saw a man run out. ...</td>\n",
       "    </tr>\n",
       "    <tr>\n",
       "      <th>4989</th>\n",
       "      <td>16371</td>\n",
       "      <td>I saw the murder happen, and I recognized the ...</td>\n",
       "    </tr>\n",
       "    <tr>\n",
       "      <th>4990</th>\n",
       "      <td>67318</td>\n",
       "      <td>I was hired by a woman with a lot of money. I ...</td>\n",
       "    </tr>\n",
       "  </tbody>\n",
       "</table>\n",
       "<p>4991 rows × 2 columns</p>\n",
       "</div>"
      ],
      "text/plain": [
       "      Person_Id                                         Transcript\n",
       "0         63713                                                NaN\n",
       "1         33856                                                NaN\n",
       "2         82799                                                NaN\n",
       "3         54206                                                NaN\n",
       "4         34615                                                NaN\n",
       "...         ...                                                ...\n",
       "4986      37357  Alice did not wish to offend the Dormouse agai...\n",
       "4987      10206  time,’ she said, ‘than waste it in asking ridd...\n",
       "4988      14887  I heard a gunshot and then saw a man run out. ...\n",
       "4989      16371  I saw the murder happen, and I recognized the ...\n",
       "4990      67318  I was hired by a woman with a lot of money. I ...\n",
       "\n",
       "[4991 rows x 2 columns]"
      ]
     },
     "execution_count": 99,
     "metadata": {},
     "output_type": "execute_result"
    }
   ],
   "source": [
    "interview"
   ]
  },
  {
   "cell_type": "markdown",
   "metadata": {},
   "source": [
    "### Merge de get_fit_now_member con person"
   ]
  },
  {
   "cell_type": "code",
   "execution_count": 105,
   "metadata": {},
   "outputs": [],
   "source": [
    "merged_df = pd.merge(getfitnow_members, person, on = 'Name')"
   ]
  },
  {
   "cell_type": "code",
   "execution_count": 106,
   "metadata": {},
   "outputs": [
    {
     "data": {
      "text/html": [
       "<div>\n",
       "<style scoped>\n",
       "    .dataframe tbody tr th:only-of-type {\n",
       "        vertical-align: middle;\n",
       "    }\n",
       "\n",
       "    .dataframe tbody tr th {\n",
       "        vertical-align: top;\n",
       "    }\n",
       "\n",
       "    .dataframe thead th {\n",
       "        text-align: right;\n",
       "    }\n",
       "</style>\n",
       "<table border=\"1\" class=\"dataframe\">\n",
       "  <thead>\n",
       "    <tr style=\"text-align: right;\">\n",
       "      <th></th>\n",
       "      <th>Id_x</th>\n",
       "      <th>Person_Id</th>\n",
       "      <th>Name</th>\n",
       "      <th>Membership_Start_Date</th>\n",
       "      <th>Membership_Status</th>\n",
       "      <th>Id_y</th>\n",
       "      <th>License_Id</th>\n",
       "      <th>Address_Number</th>\n",
       "      <th>Address_Street_Name</th>\n",
       "      <th>Ssn</th>\n",
       "      <th>primer_nombre</th>\n",
       "    </tr>\n",
       "  </thead>\n",
       "  <tbody>\n",
       "    <tr>\n",
       "      <th>0</th>\n",
       "      <td>NL318</td>\n",
       "      <td>65076</td>\n",
       "      <td>Everette Koepke</td>\n",
       "      <td>2017-09-26</td>\n",
       "      <td>Gold</td>\n",
       "      <td>65076</td>\n",
       "      <td>919810</td>\n",
       "      <td>1198</td>\n",
       "      <td>Lake Normandy Ave</td>\n",
       "      <td>427618065</td>\n",
       "      <td>Everette</td>\n",
       "    </tr>\n",
       "    <tr>\n",
       "      <th>1</th>\n",
       "      <td>0YJ24</td>\n",
       "      <td>80651</td>\n",
       "      <td>Waneta Wellard</td>\n",
       "      <td>2017-12-06</td>\n",
       "      <td>Gold</td>\n",
       "      <td>80651</td>\n",
       "      <td>119490</td>\n",
       "      <td>996</td>\n",
       "      <td>Patricia Way</td>\n",
       "      <td>726208189</td>\n",
       "      <td>Waneta</td>\n",
       "    </tr>\n",
       "    <tr>\n",
       "      <th>2</th>\n",
       "      <td>5Y28Y</td>\n",
       "      <td>15218</td>\n",
       "      <td>Millicent Yessios</td>\n",
       "      <td>2018-02-05</td>\n",
       "      <td>Gold</td>\n",
       "      <td>15218</td>\n",
       "      <td>907462</td>\n",
       "      <td>3743</td>\n",
       "      <td>Reaston Blvd</td>\n",
       "      <td>755130400</td>\n",
       "      <td>Millicent</td>\n",
       "    </tr>\n",
       "    <tr>\n",
       "      <th>3</th>\n",
       "      <td>A5N3S</td>\n",
       "      <td>24541</td>\n",
       "      <td>Mary Cameron</td>\n",
       "      <td>2017-05-01</td>\n",
       "      <td>Gold</td>\n",
       "      <td>24541</td>\n",
       "      <td>730744</td>\n",
       "      <td>3778</td>\n",
       "      <td>Wollaston St</td>\n",
       "      <td>350805669</td>\n",
       "      <td>Mary</td>\n",
       "    </tr>\n",
       "    <tr>\n",
       "      <th>4</th>\n",
       "      <td>R4J4S</td>\n",
       "      <td>13703</td>\n",
       "      <td>Lien Yasin</td>\n",
       "      <td>2017-04-14</td>\n",
       "      <td>Gold</td>\n",
       "      <td>13703</td>\n",
       "      <td>236971</td>\n",
       "      <td>1813</td>\n",
       "      <td>Fitzwarren Blvd</td>\n",
       "      <td>942403927</td>\n",
       "      <td>Lien</td>\n",
       "    </tr>\n",
       "    <tr>\n",
       "      <th>...</th>\n",
       "      <td>...</td>\n",
       "      <td>...</td>\n",
       "      <td>...</td>\n",
       "      <td>...</td>\n",
       "      <td>...</td>\n",
       "      <td>...</td>\n",
       "      <td>...</td>\n",
       "      <td>...</td>\n",
       "      <td>...</td>\n",
       "      <td>...</td>\n",
       "      <td>...</td>\n",
       "    </tr>\n",
       "    <tr>\n",
       "      <th>179</th>\n",
       "      <td>2111X</td>\n",
       "      <td>36646</td>\n",
       "      <td>Arlie Braig</td>\n",
       "      <td>2017-03-15</td>\n",
       "      <td>Silver</td>\n",
       "      <td>36646</td>\n",
       "      <td>158311</td>\n",
       "      <td>2902</td>\n",
       "      <td>North Ray Circle</td>\n",
       "      <td>903364333</td>\n",
       "      <td>Arlie</td>\n",
       "    </tr>\n",
       "    <tr>\n",
       "      <th>180</th>\n",
       "      <td>11ZAK</td>\n",
       "      <td>12107</td>\n",
       "      <td>Agatha Seddon</td>\n",
       "      <td>2017-06-28</td>\n",
       "      <td>Regular</td>\n",
       "      <td>12107</td>\n",
       "      <td>466755</td>\n",
       "      <td>740</td>\n",
       "      <td>Northstead Way</td>\n",
       "      <td>636352179</td>\n",
       "      <td>Agatha</td>\n",
       "    </tr>\n",
       "    <tr>\n",
       "      <th>181</th>\n",
       "      <td>HM6U8</td>\n",
       "      <td>50106</td>\n",
       "      <td>Edgar Bamba</td>\n",
       "      <td>2017-01-28</td>\n",
       "      <td>Silver</td>\n",
       "      <td>50106</td>\n",
       "      <td>438149</td>\n",
       "      <td>228</td>\n",
       "      <td>Marble Arch Rd</td>\n",
       "      <td>910274411</td>\n",
       "      <td>Edgar</td>\n",
       "    </tr>\n",
       "    <tr>\n",
       "      <th>182</th>\n",
       "      <td>2V137</td>\n",
       "      <td>41693</td>\n",
       "      <td>Wendell Dulany</td>\n",
       "      <td>2017-12-19</td>\n",
       "      <td>Silver</td>\n",
       "      <td>41693</td>\n",
       "      <td>787454</td>\n",
       "      <td>593</td>\n",
       "      <td>E Lake Louise Rd</td>\n",
       "      <td>218829469</td>\n",
       "      <td>Wendell</td>\n",
       "    </tr>\n",
       "    <tr>\n",
       "      <th>183</th>\n",
       "      <td>4KB72</td>\n",
       "      <td>79110</td>\n",
       "      <td>Emile Hege</td>\n",
       "      <td>2017-05-22</td>\n",
       "      <td>Regular</td>\n",
       "      <td>79110</td>\n",
       "      <td>642603</td>\n",
       "      <td>1994</td>\n",
       "      <td>Mc Cord Blvd</td>\n",
       "      <td>316775625</td>\n",
       "      <td>Emile</td>\n",
       "    </tr>\n",
       "  </tbody>\n",
       "</table>\n",
       "<p>184 rows × 11 columns</p>\n",
       "</div>"
      ],
      "text/plain": [
       "      Id_x  Person_Id               Name Membership_Start_Date  \\\n",
       "0    NL318      65076    Everette Koepke            2017-09-26   \n",
       "1    0YJ24      80651     Waneta Wellard            2017-12-06   \n",
       "2    5Y28Y      15218  Millicent Yessios            2018-02-05   \n",
       "3    A5N3S      24541       Mary Cameron            2017-05-01   \n",
       "4    R4J4S      13703         Lien Yasin            2017-04-14   \n",
       "..     ...        ...                ...                   ...   \n",
       "179  2111X      36646        Arlie Braig            2017-03-15   \n",
       "180  11ZAK      12107      Agatha Seddon            2017-06-28   \n",
       "181  HM6U8      50106        Edgar Bamba            2017-01-28   \n",
       "182  2V137      41693     Wendell Dulany            2017-12-19   \n",
       "183  4KB72      79110         Emile Hege            2017-05-22   \n",
       "\n",
       "    Membership_Status   Id_y  License_Id  Address_Number Address_Street_Name  \\\n",
       "0                Gold  65076      919810            1198   Lake Normandy Ave   \n",
       "1                Gold  80651      119490             996        Patricia Way   \n",
       "2                Gold  15218      907462            3743        Reaston Blvd   \n",
       "3                Gold  24541      730744            3778        Wollaston St   \n",
       "4                Gold  13703      236971            1813     Fitzwarren Blvd   \n",
       "..                ...    ...         ...             ...                 ...   \n",
       "179            Silver  36646      158311            2902    North Ray Circle   \n",
       "180           Regular  12107      466755             740      Northstead Way   \n",
       "181            Silver  50106      438149             228      Marble Arch Rd   \n",
       "182            Silver  41693      787454             593    E Lake Louise Rd   \n",
       "183           Regular  79110      642603            1994        Mc Cord Blvd   \n",
       "\n",
       "           Ssn primer_nombre  \n",
       "0    427618065      Everette  \n",
       "1    726208189        Waneta  \n",
       "2    755130400     Millicent  \n",
       "3    350805669          Mary  \n",
       "4    942403927          Lien  \n",
       "..         ...           ...  \n",
       "179  903364333         Arlie  \n",
       "180  636352179        Agatha  \n",
       "181  910274411         Edgar  \n",
       "182  218829469       Wendell  \n",
       "183  316775625         Emile  \n",
       "\n",
       "[184 rows x 11 columns]"
      ]
     },
     "execution_count": 106,
     "metadata": {},
     "output_type": "execute_result"
    }
   ],
   "source": [
    "merged_df"
   ]
  },
  {
   "cell_type": "markdown",
   "metadata": {},
   "source": [
    "---"
   ]
  },
  {
   "cell_type": "markdown",
   "metadata": {},
   "source": [
    "## `Comenzamos la investigacion`"
   ]
  },
  {
   "cell_type": "markdown",
   "metadata": {},
   "source": [
    "### Un crimen ha ocurrido y el detective necesita tu ayuda. \n"
   ]
  },
  {
   "cell_type": "markdown",
   "metadata": {},
   "source": [
    "#### Pero antes, veamos un diagrama de esquema para ver como estan conectados todos los dataframes\n",
    "\n",
    "<img src=\"./_src/schemeboard.png\">\n",
    "\n",
    "\n",
    "### Te entregaron el informe del lugar del crimen, pero de alguna manera lo perdiste. Recordas vagamente que el crimen fue un ​asesinato​ que ocurrió en algún momento el ​15 de enero de 2018​ y que tuvo lugar en ​Pandas City​. **Te recomiendo comenzar por recuperar el informe correspondiente de su respectivo dataframe**"
   ]
  },
  {
   "cell_type": "code",
   "execution_count": null,
   "metadata": {},
   "outputs": [],
   "source": []
  },
  {
   "cell_type": "markdown",
   "metadata": {},
   "source": [
    "## Si creen que encontraron al asesino, ejecuten el siguiente codigo con el posible sospechoso\n",
    "\n",
    " Por favor, tene en cuenta que es recomendable no acceder al archivo \"asesino.py\" para evitar revelar detalles importantes de la caso. Si deseas disfrutar plenamente de la experiencia sin spoilers, te sugiero que evites examinar dicho archivo.\""
   ]
  },
  {
   "cell_type": "code",
   "execution_count": null,
   "metadata": {},
   "outputs": [],
   "source": [
    "from asesino import solucion\n",
    "solucion(\"Colocar aca el nombre del sospechoso\")"
   ]
  }
 ],
 "metadata": {
  "kernelspec": {
   "display_name": "Python 3",
   "language": "python",
   "name": "python3"
  },
  "language_info": {
   "codemirror_mode": {
    "name": "ipython",
    "version": 3
   },
   "file_extension": ".py",
   "mimetype": "text/x-python",
   "name": "python",
   "nbconvert_exporter": "python",
   "pygments_lexer": "ipython3",
   "version": "3.11.3"
  },
  "orig_nbformat": 4
 },
 "nbformat": 4,
 "nbformat_minor": 2
}
